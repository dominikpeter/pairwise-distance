{
 "cells": [
  {
   "cell_type": "code",
   "execution_count": 1,
   "metadata": {},
   "outputs": [
    {
     "name": "stderr",
     "output_type": "stream",
     "text": [
      "C:\\Anaconda3\\lib\\site-packages\\sklearn\\utils\\fixes.py:313: FutureWarning: numpy not_equal will not check object identity in the future. The comparison did not return the same result as suggested by the identity (`is`)) and will change.\n",
      "  _nan_object_mask = _nan_object_array != _nan_object_array\n"
     ]
    }
   ],
   "source": [
    "import numpy as np\n",
    "import pandas as pd\n",
    "\n",
    "from pairwise_distance import PairwiseDistance\n",
    "from sklearn.feature_extraction.text import TfidfVectorizer"
   ]
  },
  {
   "cell_type": "code",
   "execution_count": 2,
   "metadata": {},
   "outputs": [],
   "source": [
    "a = np.random.randn(1000, 1000) "
   ]
  },
  {
   "cell_type": "code",
   "execution_count": 3,
   "metadata": {},
   "outputs": [],
   "source": [
    "x = PairwiseDistance(batch_size=10, return_self=True).fit(a)"
   ]
  },
  {
   "cell_type": "code",
   "execution_count": 4,
   "metadata": {},
   "outputs": [
    {
     "data": {
      "text/plain": [
       "array([[0],\n",
       "       [1],\n",
       "       [2],\n",
       "       [3],\n",
       "       [4]], dtype=int64)"
      ]
     },
     "execution_count": 4,
     "metadata": {},
     "output_type": "execute_result"
    }
   ],
   "source": [
    "# makes sense, because the nearest is always itself\n",
    "x.knearest(1)[0:5]"
   ]
  },
  {
   "cell_type": "code",
   "execution_count": 71,
   "metadata": {},
   "outputs": [],
   "source": [
    "file_url = \"https://raw.githubusercontent.com/anaskhan96/Movie-Recommendation/master/trainingset1000.csv\"\n",
    "df = pd.read_csv(file_url, index_col=0)\n",
    "df.drop_duplicates(\"Name\", inplace=True)\n",
    "df.reset_index(drop=True, inplace=True)"
   ]
  },
  {
   "cell_type": "code",
   "execution_count": 72,
   "metadata": {},
   "outputs": [],
   "source": [
    "count_v = TfidfVectorizer().fit_transform(df['Name'])"
   ]
  },
  {
   "cell_type": "code",
   "execution_count": 73,
   "metadata": {},
   "outputs": [],
   "source": [
    "movies = PairwiseDistance(batch_size=10, return_self=False, metric=\"cosine\").fit(count_v)"
   ]
  },
  {
   "cell_type": "code",
   "execution_count": 74,
   "metadata": {},
   "outputs": [],
   "source": [
    "kn, dist = movies.knearest(1, return_distance=True)"
   ]
  },
  {
   "cell_type": "code",
   "execution_count": 75,
   "metadata": {},
   "outputs": [],
   "source": [
    "df['Nearest Index'] = kn\n",
    "df['Distance'] = dist\n",
    "df['Nearest Movie by Name'] = df['Nearest Index'].map(df['Name'])"
   ]
  },
  {
   "cell_type": "code",
   "execution_count": 78,
   "metadata": {},
   "outputs": [
    {
     "data": {
      "text/html": [
       "<div>\n",
       "<style scoped>\n",
       "    .dataframe tbody tr th:only-of-type {\n",
       "        vertical-align: middle;\n",
       "    }\n",
       "\n",
       "    .dataframe tbody tr th {\n",
       "        vertical-align: top;\n",
       "    }\n",
       "\n",
       "    .dataframe thead th {\n",
       "        text-align: right;\n",
       "    }\n",
       "</style>\n",
       "<table border=\"1\" class=\"dataframe\">\n",
       "  <thead>\n",
       "    <tr style=\"text-align: right;\">\n",
       "      <th></th>\n",
       "      <th>Name</th>\n",
       "      <th>Nearest Movie by Name</th>\n",
       "      <th>Distance</th>\n",
       "    </tr>\n",
       "  </thead>\n",
       "  <tbody>\n",
       "    <tr>\n",
       "      <th>0</th>\n",
       "      <td>The Shawshank Redemption</td>\n",
       "      <td>The Raid: Redemption</td>\n",
       "      <td>0.504737</td>\n",
       "    </tr>\n",
       "    <tr>\n",
       "      <th>1</th>\n",
       "      <td>The Godfather</td>\n",
       "      <td>The Godfather, Part II</td>\n",
       "      <td>0.368011</td>\n",
       "    </tr>\n",
       "    <tr>\n",
       "      <th>2</th>\n",
       "      <td>The Godfather, Part II</td>\n",
       "      <td>The Godfather Part III</td>\n",
       "      <td>0.320126</td>\n",
       "    </tr>\n",
       "    <tr>\n",
       "      <th>3</th>\n",
       "      <td>The Dark Knight</td>\n",
       "      <td>The Dark Knight Rises</td>\n",
       "      <td>0.209717</td>\n",
       "    </tr>\n",
       "    <tr>\n",
       "      <th>4</th>\n",
       "      <td>The Good, the Bad and the Ugly</td>\n",
       "      <td>Good Night, and Good Luck.</td>\n",
       "      <td>0.595508</td>\n",
       "    </tr>\n",
       "    <tr>\n",
       "      <th>5</th>\n",
       "      <td>Pulp Fiction</td>\n",
       "      <td>Stranger Than Fiction</td>\n",
       "      <td>0.619053</td>\n",
       "    </tr>\n",
       "    <tr>\n",
       "      <th>6</th>\n",
       "      <td>12 Angry Men</td>\n",
       "      <td>X-Men</td>\n",
       "      <td>0.507281</td>\n",
       "    </tr>\n",
       "    <tr>\n",
       "      <th>7</th>\n",
       "      <td>Schindler's List</td>\n",
       "      <td>The Bucket List</td>\n",
       "      <td>0.539865</td>\n",
       "    </tr>\n",
       "    <tr>\n",
       "      <th>8</th>\n",
       "      <td>Fight Club</td>\n",
       "      <td>The Breakfast Club</td>\n",
       "      <td>0.548111</td>\n",
       "    </tr>\n",
       "    <tr>\n",
       "      <th>9</th>\n",
       "      <td>The Lord of the Rings: The Fellowship of the Ring</td>\n",
       "      <td>The Lord of the Rings: The Two Towers</td>\n",
       "      <td>0.384602</td>\n",
       "    </tr>\n",
       "    <tr>\n",
       "      <th>10</th>\n",
       "      <td>Inception</td>\n",
       "      <td>The Shawshank Redemption</td>\n",
       "      <td>1.000000</td>\n",
       "    </tr>\n",
       "    <tr>\n",
       "      <th>11</th>\n",
       "      <td>Star Wars: Episode V - The Empire Strikes Back</td>\n",
       "      <td>Star Wars: Episode III - Revenge of the Sith</td>\n",
       "      <td>0.554783</td>\n",
       "    </tr>\n",
       "    <tr>\n",
       "      <th>12</th>\n",
       "      <td>Forrest Gump</td>\n",
       "      <td>The Shawshank Redemption</td>\n",
       "      <td>1.000000</td>\n",
       "    </tr>\n",
       "    <tr>\n",
       "      <th>13</th>\n",
       "      <td>One Flew Over the Cuckoo's Nest</td>\n",
       "      <td>Reign Over Me</td>\n",
       "      <td>0.742223</td>\n",
       "    </tr>\n",
       "    <tr>\n",
       "      <th>14</th>\n",
       "      <td>Seven Samurai</td>\n",
       "      <td>The Last Samurai</td>\n",
       "      <td>0.479414</td>\n",
       "    </tr>\n",
       "    <tr>\n",
       "      <th>15</th>\n",
       "      <td>The Lord of the Rings: The Two Towers</td>\n",
       "      <td>The Lord of the Rings: The Fellowship of the Ring</td>\n",
       "      <td>0.384602</td>\n",
       "    </tr>\n",
       "    <tr>\n",
       "      <th>16</th>\n",
       "      <td>Goodfellas</td>\n",
       "      <td>The Shawshank Redemption</td>\n",
       "      <td>1.000000</td>\n",
       "    </tr>\n",
       "    <tr>\n",
       "      <th>17</th>\n",
       "      <td>Star Wars: Episode IV - A New Hope</td>\n",
       "      <td>Star Wars: Episode V - The Empire Strikes Back</td>\n",
       "      <td>0.557934</td>\n",
       "    </tr>\n",
       "    <tr>\n",
       "      <th>18</th>\n",
       "      <td>The Matrix</td>\n",
       "      <td>The Lord of the Rings: The Fellowship of the Ring</td>\n",
       "      <td>0.856459</td>\n",
       "    </tr>\n",
       "    <tr>\n",
       "      <th>19</th>\n",
       "      <td>City of God</td>\n",
       "      <td>Aguirre: The Wrath of God</td>\n",
       "      <td>0.531158</td>\n",
       "    </tr>\n",
       "  </tbody>\n",
       "</table>\n",
       "</div>"
      ],
      "text/plain": [
       "                                                 Name  \\\n",
       "0                            The Shawshank Redemption   \n",
       "1                                       The Godfather   \n",
       "2                              The Godfather, Part II   \n",
       "3                                     The Dark Knight   \n",
       "4                      The Good, the Bad and the Ugly   \n",
       "5                                        Pulp Fiction   \n",
       "6                                        12 Angry Men   \n",
       "7                                    Schindler's List   \n",
       "8                                          Fight Club   \n",
       "9   The Lord of the Rings: The Fellowship of the Ring   \n",
       "10                                          Inception   \n",
       "11     Star Wars: Episode V - The Empire Strikes Back   \n",
       "12                                       Forrest Gump   \n",
       "13                    One Flew Over the Cuckoo's Nest   \n",
       "14                                      Seven Samurai   \n",
       "15              The Lord of the Rings: The Two Towers   \n",
       "16                                         Goodfellas   \n",
       "17                 Star Wars: Episode IV - A New Hope   \n",
       "18                                         The Matrix   \n",
       "19                                        City of God   \n",
       "\n",
       "                                Nearest Movie by Name  Distance  \n",
       "0                                The Raid: Redemption  0.504737  \n",
       "1                              The Godfather, Part II  0.368011  \n",
       "2                              The Godfather Part III  0.320126  \n",
       "3                               The Dark Knight Rises  0.209717  \n",
       "4                          Good Night, and Good Luck.  0.595508  \n",
       "5                               Stranger Than Fiction  0.619053  \n",
       "6                                               X-Men  0.507281  \n",
       "7                                     The Bucket List  0.539865  \n",
       "8                                  The Breakfast Club  0.548111  \n",
       "9               The Lord of the Rings: The Two Towers  0.384602  \n",
       "10                           The Shawshank Redemption  1.000000  \n",
       "11       Star Wars: Episode III - Revenge of the Sith  0.554783  \n",
       "12                           The Shawshank Redemption  1.000000  \n",
       "13                                      Reign Over Me  0.742223  \n",
       "14                                   The Last Samurai  0.479414  \n",
       "15  The Lord of the Rings: The Fellowship of the Ring  0.384602  \n",
       "16                           The Shawshank Redemption  1.000000  \n",
       "17     Star Wars: Episode V - The Empire Strikes Back  0.557934  \n",
       "18  The Lord of the Rings: The Fellowship of the Ring  0.856459  \n",
       "19                          Aguirre: The Wrath of God  0.531158  "
      ]
     },
     "execution_count": 78,
     "metadata": {},
     "output_type": "execute_result"
    }
   ],
   "source": [
    "df[['Name', 'Nearest Movie by Name', 'Distance']].head(20)"
   ]
  },
  {
   "cell_type": "code",
   "execution_count": null,
   "metadata": {},
   "outputs": [],
   "source": []
  }
 ],
 "metadata": {
  "kernelspec": {
   "display_name": "Python 3",
   "language": "python",
   "name": "python3"
  },
  "language_info": {
   "codemirror_mode": {
    "name": "ipython",
    "version": 3
   },
   "file_extension": ".py",
   "mimetype": "text/x-python",
   "name": "python",
   "nbconvert_exporter": "python",
   "pygments_lexer": "ipython3",
   "version": "3.6.6"
  }
 },
 "nbformat": 4,
 "nbformat_minor": 2
}
